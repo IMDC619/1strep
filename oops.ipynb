{
 "cells": [
  {
   "cell_type": "code",
   "execution_count": 81,
   "metadata": {},
   "outputs": [
    {
     "name": "stdout",
     "output_type": "stream",
     "text": [
      "==========================\n",
      "dc 55\n"
     ]
    },
    {
     "ename": "AttributeError",
     "evalue": "'laptop' object has no attribute 'brand'",
     "output_type": "error",
     "traceback": [
      "\u001b[0;31m---------------------------------------------------------------------------\u001b[0m",
      "\u001b[0;31mAttributeError\u001b[0m                            Traceback (most recent call last)",
      "\u001b[1;32m/home/dhairya/Desktop/python/oops.ipynb Cell 1\u001b[0m in \u001b[0;36m<cell line: 78>\u001b[0;34m()\u001b[0m\n\u001b[1;32m     <a href='vscode-notebook-cell:/home/dhairya/Desktop/python/oops.ipynb#W0sZmlsZQ%3D%3D?line=74'>75</a>\u001b[0m             \u001b[39mprint\u001b[39m(\u001b[39mself\u001b[39m\u001b[39m.\u001b[39mbrand, \u001b[39mself\u001b[39m\u001b[39m.\u001b[39mcpu,\u001b[39mself\u001b[39m\u001b[39m.\u001b[39mram)\n\u001b[1;32m     <a href='vscode-notebook-cell:/home/dhairya/Desktop/python/oops.ipynb#W0sZmlsZQ%3D%3D?line=76'>77</a>\u001b[0m s1 \u001b[39m=\u001b[39m student(\u001b[39m\"\u001b[39m\u001b[39mdc\u001b[39m\u001b[39m\"\u001b[39m,\u001b[39m55\u001b[39m)\n\u001b[0;32m---> <a href='vscode-notebook-cell:/home/dhairya/Desktop/python/oops.ipynb#W0sZmlsZQ%3D%3D?line=77'>78</a>\u001b[0m s1\u001b[39m.\u001b[39;49mshow()\n",
      "\u001b[1;32m/home/dhairya/Desktop/python/oops.ipynb Cell 1\u001b[0m in \u001b[0;36mstudent.show\u001b[0;34m(self)\u001b[0m\n\u001b[1;32m     <a href='vscode-notebook-cell:/home/dhairya/Desktop/python/oops.ipynb#W0sZmlsZQ%3D%3D?line=64'>65</a>\u001b[0m \u001b[39mdef\u001b[39;00m \u001b[39mshow\u001b[39m(\u001b[39mself\u001b[39m):\n\u001b[1;32m     <a href='vscode-notebook-cell:/home/dhairya/Desktop/python/oops.ipynb#W0sZmlsZQ%3D%3D?line=65'>66</a>\u001b[0m     \u001b[39mprint\u001b[39m(\u001b[39mself\u001b[39m\u001b[39m.\u001b[39mname,\u001b[39mself\u001b[39m\u001b[39m.\u001b[39mrollno)\n\u001b[0;32m---> <a href='vscode-notebook-cell:/home/dhairya/Desktop/python/oops.ipynb#W0sZmlsZQ%3D%3D?line=66'>67</a>\u001b[0m     \u001b[39mself\u001b[39;49m\u001b[39m.\u001b[39;49mlap\u001b[39m.\u001b[39;49mshow()\n",
      "\u001b[1;32m/home/dhairya/Desktop/python/oops.ipynb Cell 1\u001b[0m in \u001b[0;36mstudent.laptop.show\u001b[0;34m(self)\u001b[0m\n\u001b[1;32m     <a href='vscode-notebook-cell:/home/dhairya/Desktop/python/oops.ipynb#W0sZmlsZQ%3D%3D?line=73'>74</a>\u001b[0m \u001b[39mdef\u001b[39;00m \u001b[39mshow\u001b[39m(\u001b[39mself\u001b[39m):\n\u001b[0;32m---> <a href='vscode-notebook-cell:/home/dhairya/Desktop/python/oops.ipynb#W0sZmlsZQ%3D%3D?line=74'>75</a>\u001b[0m     \u001b[39mprint\u001b[39m(\u001b[39mself\u001b[39;49m\u001b[39m.\u001b[39;49mbrand, \u001b[39mself\u001b[39m\u001b[39m.\u001b[39mcpu,\u001b[39mself\u001b[39m\u001b[39m.\u001b[39mram)\n",
      "\u001b[0;31mAttributeError\u001b[0m: 'laptop' object has no attribute 'brand'"
     ]
    }
   ],
   "source": [
    "#class computer:\n",
    "#    def __init__(self,cpu,ram):\n",
    "#        self.cpu = cpu\n",
    "#        self.ram = ram\n",
    "#    def config(self):\n",
    "#        print(\"cpu is {} and ram is {}\".format(self.cpu,self.ram))\n",
    "#comp1 = computer(\"i5\",16)\n",
    "#comp2 = computer(\"i7\",8)\n",
    "#print(comp1.config())\n",
    "#print(computer.config(comp2))\n",
    "#print(comp2)\n",
    "#\n",
    "#print(\"==========================\")\n",
    "##DEFAULT VALS\n",
    "#class nameage:\n",
    "#    def __init__(self,name = \"Dhairya\",age = 21):\n",
    "#        self.name = name\n",
    "#        self.age = age\n",
    "#    def output(self):\n",
    "#        print(self.name,self.age)\n",
    "#c1 = nameage(\"dc\",45)\n",
    "#c2 = nameage()\n",
    "#print(c1.output())\n",
    "#print(c2.output())\n",
    "#\n",
    "#print(\"==========================\")\n",
    "#class car:\n",
    "#    #class var\n",
    "#    wheels = 4\n",
    "#    def __init__(self):\n",
    "#        # instance var\n",
    "#        self.mil = 10\n",
    "#        self.com = \"BMW\"\n",
    "#c1 = car()  \n",
    "#c2 = car()\n",
    "#print(car.wheels)\n",
    "#print(c1.wheels)\n",
    "#\n",
    "#print(\"==========================\")\n",
    "#class student:\n",
    "#    school = \"DC_UNIV\"\n",
    "#    def __init__(self,m1,m2,m3):\n",
    "#        self.m1 = m1\n",
    "#        self.m2 = m2\n",
    "#        self.m3 = m3\n",
    "#    def avg(self):\n",
    "#        return (self.m1 + self.m2 + self.m3)/3\n",
    "#    def get_ml (self):\n",
    "#        return self.ml\n",
    "#    def set_ml(self, value): \n",
    "#        self.ml value\n",
    "#    # we do get and set for all variable, get is to fetch value(accessor) and set is to modify(mutators)\n",
    "#s1 = student(1,2,3)\n",
    "#s2 = student(2,3,4)\n",
    "#print(s1.avg())\n",
    "#    #avg is instance method cuz it works with objects:\n",
    "#    # 2 types of instance method: accessor(only to fetch value of instance method) and mutator methods(modify method).\n",
    "#\n",
    "print(\"==========================\")\n",
    "class student():\n",
    "    def __init__(self,name,rollno):\n",
    "        self.name = name\n",
    "        self.rollno = rollno\n",
    "        self.lap = self.laptop()\n",
    "    def show(self):\n",
    "        print(self.name,self.rollno)\n",
    "        self.lap.show()\n",
    "\n",
    "    class laptop:\n",
    "        def _init__(self):\n",
    "            self.brand = \"hp\"\n",
    "            self.cpu = \"i5\"\n",
    "            self.ram = 8\n",
    "        def show(self):\n",
    "            print(self.brand, self.cpu,self.ram)\n",
    "            \n",
    "s1 = student(\"dc\",55)\n",
    "s1.show()"
   ]
  },
  {
   "cell_type": "code",
   "execution_count": null,
   "metadata": {},
   "outputs": [],
   "source": []
  },
  {
   "cell_type": "code",
   "execution_count": null,
   "metadata": {},
   "outputs": [],
   "source": []
  }
 ],
 "metadata": {
  "kernelspec": {
   "display_name": "Python 3.8.10 ('main_env': venv)",
   "language": "python",
   "name": "python3"
  },
  "language_info": {
   "codemirror_mode": {
    "name": "ipython",
    "version": 3
   },
   "file_extension": ".py",
   "mimetype": "text/x-python",
   "name": "python",
   "nbconvert_exporter": "python",
   "pygments_lexer": "ipython3",
   "version": "3.8.10"
  },
  "orig_nbformat": 4,
  "vscode": {
   "interpreter": {
    "hash": "7d97deee0890ef7fbdc0f60676e5fb5ee1e533660a33f6b39b88622a52b0eb66"
   }
  }
 },
 "nbformat": 4,
 "nbformat_minor": 2
}
