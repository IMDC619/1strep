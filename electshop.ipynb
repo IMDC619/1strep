{
 "cells": [
  {
   "cell_type": "code",
   "execution_count": 60,
   "metadata": {},
   "outputs": [
    {
     "name": "stdout",
     "output_type": "stream",
     "text": [
      "values in arr 2 are:  [4]\n",
      "values in arr 3 are:  [5]\n"
     ]
    }
   ],
   "source": [
    "values = list(map(int,input().strip().split(' ')))\n",
    "arr1=[]\n",
    "arr2=[]\n",
    "arr1 = list(map(int,input(\"enter {} elements \".format(values[1])).strip().split(' ')))\n",
    "if len(arr1) > values[1]:\n",
    "    print(\"told you to enter {} elements \".format(values[1]))\n",
    "else:\n",
    "    print(\"values in arr 2 are: \",arr1)\n",
    "    arr2 = list(map(int,input(\"enter {} elements \".format(values[2])).strip().split(' ')))\n",
    "if len(arr2) > values[2]:\n",
    "    print(\"told you to enter {} elements \".format(values[2]))\n",
    "else:\n",
    "    print(\"values in arr 3 are: \",arr2)\n",
    "\n",
    "\n"
   ]
  },
  {
   "cell_type": "code",
   "execution_count": 61,
   "metadata": {},
   "outputs": [
    {
     "name": "stdout",
     "output_type": "stream",
     "text": [
      "[9]\n",
      "[9]\n"
     ]
    }
   ],
   "source": [
    "total = []\n",
    "for i in range(len(arr1)):\n",
    "    for j in range(len(arr2)):\n",
    "        total.append(arr1[i]+arr2[j])\n",
    "print(total)\n",
    "total = [*set(total)]\n",
    "total = sorted(total,reverse=True)\n",
    "\n",
    "\n",
    "print(total)\n"
   ]
  },
  {
   "cell_type": "code",
   "execution_count": 63,
   "metadata": {},
   "outputs": [
    {
     "name": "stdout",
     "output_type": "stream",
     "text": [
      "-1\n"
     ]
    }
   ],
   "source": [
    "for i in range(len(total)):\n",
    "    if(total[i]<=values[0]):\n",
    "        print(total[i])\n",
    "        break\n",
    "    elif i ==(len(total)-1):\n",
    "        print(\"-1\")"
   ]
  },
  {
   "cell_type": "code",
   "execution_count": null,
   "metadata": {},
   "outputs": [],
   "source": []
  }
 ],
 "metadata": {
  "kernelspec": {
   "display_name": "Python 3.8.10 64-bit",
   "language": "python",
   "name": "python3"
  },
  "language_info": {
   "codemirror_mode": {
    "name": "ipython",
    "version": 3
   },
   "file_extension": ".py",
   "mimetype": "text/x-python",
   "name": "python",
   "nbconvert_exporter": "python",
   "pygments_lexer": "ipython3",
   "version": "3.8.10"
  },
  "orig_nbformat": 4,
  "vscode": {
   "interpreter": {
    "hash": "31f2aee4e71d21fbe5cf8b01ff0e069b9275f58929596ceb00d14d90e3e16cd6"
   }
  }
 },
 "nbformat": 4,
 "nbformat_minor": 2
}
